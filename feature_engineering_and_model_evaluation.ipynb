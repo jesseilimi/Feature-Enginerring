{
 "cells": [
  {
   "cell_type": "markdown",
   "id": "457135ab",
   "metadata": {},
   "source": [
    "# **Feature Engineering and Model Evaluation**"
   ]
  },
  {
   "cell_type": "markdown",
   "id": "3315798f",
   "metadata": {},
   "source": [
    "## _**Load the Dataset**_"
   ]
  },
  {
   "cell_type": "code",
   "execution_count": null,
   "id": "c622aaba",
   "metadata": {},
   "outputs": [],
   "source": [
    "\n",
    "import pandas as pd\n",
    "from sklearn.model_selection import train_test_split\n",
    "from sklearn.ensemble import RandomForestClassifier\n",
    "from sklearn.metrics import accuracy_score, roc_auc_score\n",
    "from sklearn.preprocessing import OneHotEncoder\n",
    "from sklearn.compose import ColumnTransformer\n",
    "from sklearn.pipeline import Pipeline\n",
    "from sklearn.impute import SimpleImputer\n",
    "\n",
    "# Load the dataset\n",
    "df = pd.read_csv('C:/Users/jckat/Downloads/Portfolio/Feature Enginerring/clean_data_after_eda.csv')\n",
    "df.head()\n"
   ]
  },
  {
   "cell_type": "markdown",
   "id": "bc4fe1e4",
   "metadata": {},
   "source": [
    "## Step 2: Remove Irrelevant Columns"
   ]
  },
  {
   "cell_type": "code",
   "execution_count": null,
   "id": "07101db9",
   "metadata": {},
   "outputs": [],
   "source": [
    "\n",
    "# Remove irrelevant columns\n",
    "irrelevant_columns = ['id', 'date_end', 'date_modif_prod', 'date_renewal']\n",
    "df.drop(columns=irrelevant_columns, inplace=True)\n",
    "df.head()\n"
   ]
  },
  {
   "cell_type": "markdown",
   "id": "9223b73c",
   "metadata": {},
   "source": [
    "## Step 3: Expand the Dataset with New Features"
   ]
  },
  {
   "cell_type": "code",
   "execution_count": null,
   "id": "439fe8e8",
   "metadata": {},
   "outputs": [],
   "source": [
    "\n",
    "# Extract components from date columns\n",
    "df['year_activ'] = pd.to_datetime(df['date_activ']).dt.year\n",
    "df['month_activ'] = pd.to_datetime(df['date_activ']).dt.month\n",
    "df['day_activ'] = pd.to_datetime(df['date_activ']).dt.day\n",
    "df.drop(columns=['date_activ'], inplace=True)\n",
    "df.head()\n"
   ]
  },
  {
   "cell_type": "markdown",
   "id": "887523b5",
   "metadata": {},
   "source": [
    "## Step 4: Combine Columns to Create Better Features"
   ]
  },
  {
   "cell_type": "code",
   "execution_count": null,
   "id": "b8ad9a51",
   "metadata": {},
   "outputs": [],
   "source": [
    "\n",
    "# Create a feature for total consumption by summing consumption columns\n",
    "df['total_consumption'] = df['cons_12m'] + df['cons_gas_12m'] + df['cons_last_month']\n",
    "\n",
    "# Create the new feature 'price_diff_dec_jan'\n",
    "df['price_off_peak_dec'] = df['var_6m_price_off_peak'] * 1.02  # Dummy calculation for December prices\n",
    "df['price_off_peak_jan'] = df['var_6m_price_off_peak'] * 0.98  # Dummy calculation for January prices\n",
    "df['price_diff_dec_jan'] = df['price_off_peak_dec'] - df['price_off_peak_jan']\n",
    "df[['price_off_peak_dec', 'price_off_peak_jan', 'price_diff_dec_jan']].head()\n"
   ]
  },
  {
   "cell_type": "markdown",
   "id": "64b6f19e",
   "metadata": {},
   "source": [
    "## Step 5: Prepare the Final Dataset"
   ]
  },
  {
   "cell_type": "code",
   "execution_count": null,
   "id": "f3dfe551",
   "metadata": {},
   "outputs": [],
   "source": [
    "\n",
    "# Prepare the dataset\n",
    "features = df.drop(columns=['churn'])\n",
    "target = df['churn']\n",
    "\n",
    "# Identify categorical columns\n",
    "categorical_cols = features.select_dtypes(include=['object']).columns\n",
    "\n",
    "# Define preprocessing pipeline for categorical features\n",
    "categorical_transformer = Pipeline(steps=[\n",
    "    ('imputer', SimpleImputer(strategy='constant', fill_value='missing')),\n",
    "    ('onehot', OneHotEncoder(handle_unknown='ignore'))\n",
    "])\n",
    "\n",
    "# Combine preprocessing for numeric and categorical data\n",
    "preprocessor = ColumnTransformer(\n",
    "    transformers=[\n",
    "        ('cat', categorical_transformer, categorical_cols)\n",
    "    ],\n",
    "    remainder='passthrough'\n",
    ")\n",
    "\n",
    "# Split the dataset into training and testing sets\n",
    "X_train, X_test, y_train, y_test = train_test_split(features, target, test_size=0.3, random_state=42)\n"
   ]
  },
  {
   "cell_type": "markdown",
   "id": "f447523b",
   "metadata": {},
   "source": [
    "## Step 6: Train and Evaluate the Model Without the New Feature"
   ]
  },
  {
   "cell_type": "code",
   "execution_count": null,
   "id": "609c1c0e",
   "metadata": {},
   "outputs": [],
   "source": [
    "\n",
    "# Exclude the new feature from training\n",
    "X_train_without_new = X_train.drop(columns=['price_diff_dec_jan'])\n",
    "X_test_without_new = X_test.drop(columns=['price_diff_dec_jan'])\n",
    "\n",
    "# Define the model\n",
    "model = RandomForestClassifier(random_state=42)\n",
    "\n",
    "# Create and evaluate pipeline without the new feature\n",
    "pipeline_without_new = Pipeline(steps=[\n",
    "    ('preprocessor', preprocessor),\n",
    "    ('classifier', model)\n",
    "])\n",
    "\n",
    "# Train the model without the new feature\n",
    "pipeline_without_new.fit(X_train_without_new, y_train)\n",
    "predictions_without_new = pipeline_without_new.predict(X_test_without_new)\n",
    "accuracy_without_new = accuracy_score(y_test, predictions_without_new)\n",
    "roc_auc_without_new = roc_auc_score(y_test, predictions_without_new)\n",
    "\n",
    "accuracy_without_new, roc_auc_without_new\n"
   ]
  },
  {
   "cell_type": "markdown",
   "id": "12679364",
   "metadata": {},
   "source": [
    "## Step 7: Train and Evaluate the Model With the New Feature"
   ]
  },
  {
   "cell_type": "code",
   "execution_count": null,
   "id": "bcefb2cb",
   "metadata": {},
   "outputs": [],
   "source": [
    "\n",
    "# Create and evaluate pipeline with the new feature\n",
    "pipeline_with_new = Pipeline(steps=[\n",
    "    ('preprocessor', preprocessor),\n",
    "    ('classifier', model)\n",
    "])\n",
    "\n",
    "# Train the model with the new feature\n",
    "pipeline_with_new.fit(X_train, y_train)\n",
    "predictions_with_new = pipeline_with_new.predict(X_test)\n",
    "accuracy_with_new = accuracy_score(y_test, predictions_with_new)\n",
    "roc_auc_with_new = roc_auc_score(y_test, predictions_with_new)\n",
    "\n",
    "accuracy_with_new, roc_auc_with_new\n"
   ]
  },
  {
   "cell_type": "markdown",
   "id": "7957dbf6",
   "metadata": {},
   "source": [
    "## Step 8: Compare the Performance of Both Models"
   ]
  },
  {
   "cell_type": "code",
   "execution_count": null,
   "id": "f5e4fc82",
   "metadata": {},
   "outputs": [],
   "source": [
    "\n",
    "print(f'Accuracy without new feature: {accuracy_without_new}')\n",
    "print(f'ROC AUC without new feature: {roc_auc_without_new}')\n",
    "print(f'Accuracy with new feature: {accuracy_with_new}')\n",
    "print(f'ROC AUC with new feature: {roc_auc_with_new}')\n"
   ]
  }
 ],
 "metadata": {
  "language_info": {
   "name": "python"
  }
 },
 "nbformat": 4,
 "nbformat_minor": 5
}
